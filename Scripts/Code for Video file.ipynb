{
 "cells": [
  {
   "cell_type": "code",
   "execution_count": 1,
   "id": "1c75d158",
   "metadata": {},
   "outputs": [],
   "source": [
    "import numpy as np\n",
    "import cv2"
   ]
  },
  {
   "cell_type": "code",
   "execution_count": 2,
   "id": "d4d67149",
   "metadata": {},
   "outputs": [],
   "source": [
    "# After the code is executed a VideoOutput.mp4 file will be visible in your directory.\n",
    "# By tuning the parameters performance can be further improved.\n",
    "\n",
    "def region_of_interest(img, vertices):\n",
    "    mask = np.zeros_like(img)\n",
    "    #channel_count = img.shape[2]\n",
    "    ignore_mask_color = (255)\n",
    "    cv2.fillPoly(mask, vertices, ignore_mask_color)\n",
    "    masked_image = cv2.bitwise_and(img, mask)\n",
    "    return masked_image\n",
    "\n",
    "def draw_lines(img, lines):\n",
    "  img = np.copy(img)\n",
    "  blank_img = np.zeros((img.shape[0], img.shape[1], 3), dtype=np.uint8)\n",
    "\n",
    "  for line in lines:\n",
    "    for x1, y1, x2, y2 in line:\n",
    "      cv2.line(blank_img, (x1,y1), (x2,y2), (0,0,255), thickness=2)\n",
    "  \n",
    "  img = cv2.addWeighted(img, 0.8, blank_img, 1, 0.0)\n",
    "  return img\n",
    "\n",
    "def process(image):\n",
    "  def grayscale(image):\n",
    "      return cv2.cvtColor(image, cv2.COLOR_RGB2GRAY)\n",
    "  gray = grayscale(image)\n",
    "  canny_image = cv2.Canny(gray, 100, 200)\n",
    "  def gaussian_blur(img, kernel_size):\n",
    "      \"\"\"Applies a Gaussian Noise kernel\"\"\"\n",
    "      return cv2.GaussianBlur(img, (kernel_size, kernel_size), 0)\n",
    "  gaus_image = gaussian_blur(canny_image, 1)\n",
    "\n",
    "  height = image.shape[0]\n",
    "  width = image.shape[1]\n",
    "  vertices = [(0,height), (width/2, 310), (width, height)]\n",
    "  masked = region_of_interest(gaus_image, np.array([vertices], np.int32))\n",
    "\n",
    "  lines = cv2.HoughLinesP(masked,\n",
    "                          rho=6,\n",
    "                          theta=np.pi/60,\n",
    "                          threshold=160,\n",
    "                          lines=np.array([]),\n",
    "                          minLineLength=40,\n",
    "                          maxLineGap=25)\n",
    "\n",
    "  image_with_lines = draw_lines(image, lines)\n",
    "  return image_with_lines\n",
    "\n",
    "cap = cv2.VideoCapture('Videos/Test.mp4')\n",
    "fourcc = cv2.VideoWriter_fourcc(*'XVID')\n",
    "out = cv2.VideoWriter('VideoOutput.mp4', fourcc, 20.0, (960,540))\n",
    "while(cap.isOpened()):\n",
    "    ret, frame = cap.read()\n",
    "    if ret == True:\n",
    "        Output = process(frame)\n",
    "        out.write(Output)\n",
    "    else:\n",
    "        break\n",
    "\n",
    "cap.release()\n",
    "out.release()\n",
    "cv2.destroyAllWindows()"
   ]
  }
 ],
 "metadata": {
  "kernelspec": {
   "display_name": "Python 3",
   "language": "python",
   "name": "python3"
  },
  "language_info": {
   "codemirror_mode": {
    "name": "ipython",
    "version": 3
   },
   "file_extension": ".py",
   "mimetype": "text/x-python",
   "name": "python",
   "nbconvert_exporter": "python",
   "pygments_lexer": "ipython3",
   "version": "3.8.8"
  }
 },
 "nbformat": 4,
 "nbformat_minor": 5
}
