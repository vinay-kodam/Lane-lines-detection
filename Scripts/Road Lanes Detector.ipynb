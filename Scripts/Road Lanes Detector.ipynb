{
 "cells": [
  {
   "cell_type": "code",
   "execution_count": 5,
   "id": "24dfaeeb",
   "metadata": {},
   "outputs": [],
   "source": [
    "import numpy as np\n",
    "import cv2"
   ]
  },
  {
   "cell_type": "code",
   "execution_count": 36,
   "id": "81f3e9f1",
   "metadata": {},
   "outputs": [],
   "source": [
    "# Output can be tuned by adjusting the respective parameters\n",
    "\n",
    "def region_of_interest(img, vertices):\n",
    "    mask = np.zeros_like(img)\n",
    "    ignore_mask_color = (255)\n",
    "    cv2.fillPoly(mask, vertices, ignore_mask_color)\n",
    "    masked_image = cv2.bitwise_and(img, mask)\n",
    "    return masked_image\n",
    "\n",
    "def draw_lines(img, lines):\n",
    "  img = np.copy(img)\n",
    "  blank_img = np.zeros((img.shape[0], img.shape[1], 3), dtype=np.uint8)\n",
    "\n",
    "  for line in lines:\n",
    "    for x1, y1, x2, y2 in line:\n",
    "      cv2.line(blank_img, (x1,y1), (x2,y2), (0,0, 255), thickness=2)\n",
    "  \n",
    "  img = cv2.addWeighted(img, 0.8, blank_img, 1, 0.0)\n",
    "  return img\n",
    "\n",
    "def process(image):\n",
    "    \n",
    "  def grayscale(image):\n",
    "      return cv2.cvtColor(image, cv2.COLOR_RGB2GRAY)    \n",
    "  gray = grayscale(image)\n",
    "\n",
    "  # Edge detection  \n",
    "  canny_image = cv2.Canny(gray, 100, 200)\n",
    "  \n",
    "  # Applying a Gaussian Noise kernel\n",
    "  def gaussian_blur(img, kernel_size):\n",
    "      return cv2.GaussianBlur(img, (kernel_size, kernel_size), 0)\n",
    "  gaus_image = gaussian_blur(canny_image, 1)\n",
    "\n",
    "  height = image.shape[0]\n",
    "  width = image.shape[1]\n",
    "  vertices = [(0,height), (width/2, 310), (width, height)]\n",
    "  masked = region_of_interest(gaus_image, np.array([vertices], np.int32))\n",
    "\n",
    "  lines = cv2.HoughLinesP(masked,\n",
    "                          rho=6,\n",
    "                          theta=np.pi/60,\n",
    "                          threshold=120,\n",
    "                          lines=np.array([]),\n",
    "                          minLineLength=5,\n",
    "                          maxLineGap=10)\n",
    "  image_with_lines = draw_lines(image, lines)\n",
    "  return image_with_lines\n",
    "\n",
    "Pic = cv2.imread('Pictures\\Sample.jpg',1)\n",
    "output = process(Pic)\n",
    "cv2.imshow('Lanes Detector', output)\n",
    "cv2.waitKey()\n",
    "cv2.destroyAllWindows()"
   ]
  }
 ],
 "metadata": {
  "kernelspec": {
   "display_name": "Python 3",
   "language": "python",
   "name": "python3"
  },
  "language_info": {
   "codemirror_mode": {
    "name": "ipython",
    "version": 3
   },
   "file_extension": ".py",
   "mimetype": "text/x-python",
   "name": "python",
   "nbconvert_exporter": "python",
   "pygments_lexer": "ipython3",
   "version": "3.8.8"
  }
 },
 "nbformat": 4,
 "nbformat_minor": 5
}
